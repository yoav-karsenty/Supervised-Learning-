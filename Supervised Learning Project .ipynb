{
 "cells": [
  {
   "cell_type": "markdown",
   "metadata": {},
   "source": [
    "# Supervised Learning Project"
   ]
  },
  {
   "cell_type": "markdown",
   "metadata": {},
   "source": [
    "In this project,my goal is to predict whether a customer will leave Beta Bank soon. I have the data on clients’ past \n",
    "behavior and termination of contracts with the bank.\n",
    "\n",
    "I want to:\n",
    "1. Build a model with the maximum possible F1 score. In this project, my threshold for F1 score will be 0.59 \n",
    "2. Additionally, i will measure the AUC-ROC metric and compare it with the F1 score.\n"
   ]
  },
  {
   "cell_type": "code",
   "execution_count": 4,
   "metadata": {},
   "outputs": [],
   "source": [
    "#Loading all the libraries i will use:\n",
    "import pandas as pd\n",
    "import numpy as np\n",
    "import datetime\n",
    "import math \n",
    "from scipy import stats as st\n",
    "import warnings\n",
    "warnings.filterwarnings(\"ignore\")\n",
    "import requests \n",
    "import io\n",
    "import seaborn as sns\n",
    "from sklearn.ensemble import RandomForestClassifier\n",
    "from sklearn.model_selection import train_test_split\n",
    "from sklearn.linear_model import LogisticRegression\n",
    "import numpy as np\n",
    "from sklearn import linear_model, decomposition, datasets\n",
    "from sklearn.pipeline import Pipeline\n",
    "from sklearn.tree import DecisionTreeClassifier\n",
    "from sklearn.metrics import accuracy_score\n",
    "\n",
    "from sklearn.utils import shuffle\n",
    "\n",
    "from sklearn.ensemble import RandomForestRegressor\n",
    "from sklearn.metrics import mean_absolute_error\n",
    "\n",
    "import matplotlib.pyplot as plt\n",
    "from sklearn.metrics import roc_auc_score \n",
    "from sklearn.metrics import f1_score"
   ]
  },
  {
   "cell_type": "markdown",
   "metadata": {},
   "source": [
    "## Data Preparation "
   ]
  },
  {
   "cell_type": "code",
   "execution_count": 5,
   "metadata": {},
   "outputs": [
    {
     "data": {
      "text/html": [
       "<div>\n",
       "<style scoped>\n",
       "    .dataframe tbody tr th:only-of-type {\n",
       "        vertical-align: middle;\n",
       "    }\n",
       "\n",
       "    .dataframe tbody tr th {\n",
       "        vertical-align: top;\n",
       "    }\n",
       "\n",
       "    .dataframe thead th {\n",
       "        text-align: right;\n",
       "    }\n",
       "</style>\n",
       "<table border=\"1\" class=\"dataframe\">\n",
       "  <thead>\n",
       "    <tr style=\"text-align: right;\">\n",
       "      <th></th>\n",
       "      <th>RowNumber</th>\n",
       "      <th>CustomerId</th>\n",
       "      <th>Surname</th>\n",
       "      <th>CreditScore</th>\n",
       "      <th>Geography</th>\n",
       "      <th>Gender</th>\n",
       "      <th>Age</th>\n",
       "      <th>Tenure</th>\n",
       "      <th>Balance</th>\n",
       "      <th>NumOfProducts</th>\n",
       "      <th>HasCrCard</th>\n",
       "      <th>IsActiveMember</th>\n",
       "      <th>EstimatedSalary</th>\n",
       "      <th>Exited</th>\n",
       "    </tr>\n",
       "  </thead>\n",
       "  <tbody>\n",
       "    <tr>\n",
       "      <th>0</th>\n",
       "      <td>1</td>\n",
       "      <td>15634602</td>\n",
       "      <td>Hargrave</td>\n",
       "      <td>619</td>\n",
       "      <td>France</td>\n",
       "      <td>Female</td>\n",
       "      <td>42</td>\n",
       "      <td>2.0</td>\n",
       "      <td>0.00</td>\n",
       "      <td>1</td>\n",
       "      <td>1</td>\n",
       "      <td>1</td>\n",
       "      <td>101348.88</td>\n",
       "      <td>1</td>\n",
       "    </tr>\n",
       "    <tr>\n",
       "      <th>1</th>\n",
       "      <td>2</td>\n",
       "      <td>15647311</td>\n",
       "      <td>Hill</td>\n",
       "      <td>608</td>\n",
       "      <td>Spain</td>\n",
       "      <td>Female</td>\n",
       "      <td>41</td>\n",
       "      <td>1.0</td>\n",
       "      <td>83807.86</td>\n",
       "      <td>1</td>\n",
       "      <td>0</td>\n",
       "      <td>1</td>\n",
       "      <td>112542.58</td>\n",
       "      <td>0</td>\n",
       "    </tr>\n",
       "    <tr>\n",
       "      <th>2</th>\n",
       "      <td>3</td>\n",
       "      <td>15619304</td>\n",
       "      <td>Onio</td>\n",
       "      <td>502</td>\n",
       "      <td>France</td>\n",
       "      <td>Female</td>\n",
       "      <td>42</td>\n",
       "      <td>8.0</td>\n",
       "      <td>159660.80</td>\n",
       "      <td>3</td>\n",
       "      <td>1</td>\n",
       "      <td>0</td>\n",
       "      <td>113931.57</td>\n",
       "      <td>1</td>\n",
       "    </tr>\n",
       "    <tr>\n",
       "      <th>3</th>\n",
       "      <td>4</td>\n",
       "      <td>15701354</td>\n",
       "      <td>Boni</td>\n",
       "      <td>699</td>\n",
       "      <td>France</td>\n",
       "      <td>Female</td>\n",
       "      <td>39</td>\n",
       "      <td>1.0</td>\n",
       "      <td>0.00</td>\n",
       "      <td>2</td>\n",
       "      <td>0</td>\n",
       "      <td>0</td>\n",
       "      <td>93826.63</td>\n",
       "      <td>0</td>\n",
       "    </tr>\n",
       "    <tr>\n",
       "      <th>4</th>\n",
       "      <td>5</td>\n",
       "      <td>15737888</td>\n",
       "      <td>Mitchell</td>\n",
       "      <td>850</td>\n",
       "      <td>Spain</td>\n",
       "      <td>Female</td>\n",
       "      <td>43</td>\n",
       "      <td>2.0</td>\n",
       "      <td>125510.82</td>\n",
       "      <td>1</td>\n",
       "      <td>1</td>\n",
       "      <td>1</td>\n",
       "      <td>79084.10</td>\n",
       "      <td>0</td>\n",
       "    </tr>\n",
       "    <tr>\n",
       "      <th>5</th>\n",
       "      <td>6</td>\n",
       "      <td>15574012</td>\n",
       "      <td>Chu</td>\n",
       "      <td>645</td>\n",
       "      <td>Spain</td>\n",
       "      <td>Male</td>\n",
       "      <td>44</td>\n",
       "      <td>8.0</td>\n",
       "      <td>113755.78</td>\n",
       "      <td>2</td>\n",
       "      <td>1</td>\n",
       "      <td>0</td>\n",
       "      <td>149756.71</td>\n",
       "      <td>1</td>\n",
       "    </tr>\n",
       "    <tr>\n",
       "      <th>6</th>\n",
       "      <td>7</td>\n",
       "      <td>15592531</td>\n",
       "      <td>Bartlett</td>\n",
       "      <td>822</td>\n",
       "      <td>France</td>\n",
       "      <td>Male</td>\n",
       "      <td>50</td>\n",
       "      <td>7.0</td>\n",
       "      <td>0.00</td>\n",
       "      <td>2</td>\n",
       "      <td>1</td>\n",
       "      <td>1</td>\n",
       "      <td>10062.80</td>\n",
       "      <td>0</td>\n",
       "    </tr>\n",
       "  </tbody>\n",
       "</table>\n",
       "</div>"
      ],
      "text/plain": [
       "   RowNumber  CustomerId   Surname  CreditScore Geography  Gender  Age  \\\n",
       "0          1    15634602  Hargrave          619    France  Female   42   \n",
       "1          2    15647311      Hill          608     Spain  Female   41   \n",
       "2          3    15619304      Onio          502    France  Female   42   \n",
       "3          4    15701354      Boni          699    France  Female   39   \n",
       "4          5    15737888  Mitchell          850     Spain  Female   43   \n",
       "5          6    15574012       Chu          645     Spain    Male   44   \n",
       "6          7    15592531  Bartlett          822    France    Male   50   \n",
       "\n",
       "   Tenure    Balance  NumOfProducts  HasCrCard  IsActiveMember  \\\n",
       "0     2.0       0.00              1          1               1   \n",
       "1     1.0   83807.86              1          0               1   \n",
       "2     8.0  159660.80              3          1               0   \n",
       "3     1.0       0.00              2          0               0   \n",
       "4     2.0  125510.82              1          1               1   \n",
       "5     8.0  113755.78              2          1               0   \n",
       "6     7.0       0.00              2          1               1   \n",
       "\n",
       "   EstimatedSalary  Exited  \n",
       "0        101348.88       1  \n",
       "1        112542.58       0  \n",
       "2        113931.57       1  \n",
       "3         93826.63       0  \n",
       "4         79084.10       0  \n",
       "5        149756.71       1  \n",
       "6         10062.80       0  "
      ]
     },
     "execution_count": 5,
     "metadata": {},
     "output_type": "execute_result"
    }
   ],
   "source": [
    "# Downloading the csv file from my GitHub account\n",
    "\n",
    "url = \"https://raw.githubusercontent.com/yoav-karsenty/Supervised-Learning-/main/Churn%20(1).csv\"\n",
    "download = requests.get(url).content\n",
    "\n",
    "# Reading the downloaded content and turning it into a pandas dataframe\n",
    "\n",
    "bank = pd.read_csv(io.StringIO(download.decode('utf-8')))\n",
    "\n",
    "\n",
    "# Exploring the data\n",
    "bank.head(7)"
   ]
  },
  {
   "cell_type": "code",
   "execution_count": 6,
   "metadata": {},
   "outputs": [
    {
     "name": "stdout",
     "output_type": "stream",
     "text": [
      "<class 'pandas.core.frame.DataFrame'>\n",
      "RangeIndex: 10000 entries, 0 to 9999\n",
      "Data columns (total 14 columns):\n",
      " #   Column           Non-Null Count  Dtype  \n",
      "---  ------           --------------  -----  \n",
      " 0   RowNumber        10000 non-null  int64  \n",
      " 1   CustomerId       10000 non-null  int64  \n",
      " 2   Surname          10000 non-null  object \n",
      " 3   CreditScore      10000 non-null  int64  \n",
      " 4   Geography        10000 non-null  object \n",
      " 5   Gender           10000 non-null  object \n",
      " 6   Age              10000 non-null  int64  \n",
      " 7   Tenure           9091 non-null   float64\n",
      " 8   Balance          10000 non-null  float64\n",
      " 9   NumOfProducts    10000 non-null  int64  \n",
      " 10  HasCrCard        10000 non-null  int64  \n",
      " 11  IsActiveMember   10000 non-null  int64  \n",
      " 12  EstimatedSalary  10000 non-null  float64\n",
      " 13  Exited           10000 non-null  int64  \n",
      "dtypes: float64(3), int64(8), object(3)\n",
      "memory usage: 1.1+ MB\n"
     ]
    }
   ],
   "source": [
    "#getting more information about the dataset\n",
    "bank.info()"
   ]
  },
  {
   "cell_type": "code",
   "execution_count": 7,
   "metadata": {
    "scrolled": true
   },
   "outputs": [
    {
     "data": {
      "text/html": [
       "<div>\n",
       "<style scoped>\n",
       "    .dataframe tbody tr th:only-of-type {\n",
       "        vertical-align: middle;\n",
       "    }\n",
       "\n",
       "    .dataframe tbody tr th {\n",
       "        vertical-align: top;\n",
       "    }\n",
       "\n",
       "    .dataframe thead th {\n",
       "        text-align: right;\n",
       "    }\n",
       "</style>\n",
       "<table border=\"1\" class=\"dataframe\">\n",
       "  <thead>\n",
       "    <tr style=\"text-align: right;\">\n",
       "      <th></th>\n",
       "      <th>RowNumber</th>\n",
       "      <th>CustomerId</th>\n",
       "      <th>Surname</th>\n",
       "      <th>CreditScore</th>\n",
       "      <th>Geography</th>\n",
       "      <th>Gender</th>\n",
       "      <th>Age</th>\n",
       "      <th>Tenure</th>\n",
       "      <th>Balance</th>\n",
       "      <th>NumOfProducts</th>\n",
       "      <th>HasCrCard</th>\n",
       "      <th>IsActiveMember</th>\n",
       "      <th>EstimatedSalary</th>\n",
       "      <th>Exited</th>\n",
       "    </tr>\n",
       "  </thead>\n",
       "  <tbody>\n",
       "    <tr>\n",
       "      <th>30</th>\n",
       "      <td>31</td>\n",
       "      <td>15589475</td>\n",
       "      <td>Azikiwe</td>\n",
       "      <td>591</td>\n",
       "      <td>Spain</td>\n",
       "      <td>Female</td>\n",
       "      <td>39</td>\n",
       "      <td>NaN</td>\n",
       "      <td>0.00</td>\n",
       "      <td>3</td>\n",
       "      <td>1</td>\n",
       "      <td>0</td>\n",
       "      <td>140469.38</td>\n",
       "      <td>1</td>\n",
       "    </tr>\n",
       "    <tr>\n",
       "      <th>48</th>\n",
       "      <td>49</td>\n",
       "      <td>15766205</td>\n",
       "      <td>Yin</td>\n",
       "      <td>550</td>\n",
       "      <td>Germany</td>\n",
       "      <td>Male</td>\n",
       "      <td>38</td>\n",
       "      <td>NaN</td>\n",
       "      <td>103391.38</td>\n",
       "      <td>1</td>\n",
       "      <td>0</td>\n",
       "      <td>1</td>\n",
       "      <td>90878.13</td>\n",
       "      <td>0</td>\n",
       "    </tr>\n",
       "    <tr>\n",
       "      <th>51</th>\n",
       "      <td>52</td>\n",
       "      <td>15768193</td>\n",
       "      <td>Trevisani</td>\n",
       "      <td>585</td>\n",
       "      <td>Germany</td>\n",
       "      <td>Male</td>\n",
       "      <td>36</td>\n",
       "      <td>NaN</td>\n",
       "      <td>146050.97</td>\n",
       "      <td>2</td>\n",
       "      <td>0</td>\n",
       "      <td>0</td>\n",
       "      <td>86424.57</td>\n",
       "      <td>0</td>\n",
       "    </tr>\n",
       "    <tr>\n",
       "      <th>53</th>\n",
       "      <td>54</td>\n",
       "      <td>15702298</td>\n",
       "      <td>Parkhill</td>\n",
       "      <td>655</td>\n",
       "      <td>Germany</td>\n",
       "      <td>Male</td>\n",
       "      <td>41</td>\n",
       "      <td>NaN</td>\n",
       "      <td>125561.97</td>\n",
       "      <td>1</td>\n",
       "      <td>0</td>\n",
       "      <td>0</td>\n",
       "      <td>164040.94</td>\n",
       "      <td>1</td>\n",
       "    </tr>\n",
       "    <tr>\n",
       "      <th>60</th>\n",
       "      <td>61</td>\n",
       "      <td>15651280</td>\n",
       "      <td>Hunter</td>\n",
       "      <td>742</td>\n",
       "      <td>Germany</td>\n",
       "      <td>Male</td>\n",
       "      <td>35</td>\n",
       "      <td>NaN</td>\n",
       "      <td>136857.00</td>\n",
       "      <td>1</td>\n",
       "      <td>0</td>\n",
       "      <td>0</td>\n",
       "      <td>84509.57</td>\n",
       "      <td>0</td>\n",
       "    </tr>\n",
       "    <tr>\n",
       "      <th>...</th>\n",
       "      <td>...</td>\n",
       "      <td>...</td>\n",
       "      <td>...</td>\n",
       "      <td>...</td>\n",
       "      <td>...</td>\n",
       "      <td>...</td>\n",
       "      <td>...</td>\n",
       "      <td>...</td>\n",
       "      <td>...</td>\n",
       "      <td>...</td>\n",
       "      <td>...</td>\n",
       "      <td>...</td>\n",
       "      <td>...</td>\n",
       "      <td>...</td>\n",
       "    </tr>\n",
       "    <tr>\n",
       "      <th>9944</th>\n",
       "      <td>9945</td>\n",
       "      <td>15703923</td>\n",
       "      <td>Cameron</td>\n",
       "      <td>744</td>\n",
       "      <td>Germany</td>\n",
       "      <td>Male</td>\n",
       "      <td>41</td>\n",
       "      <td>NaN</td>\n",
       "      <td>190409.34</td>\n",
       "      <td>2</td>\n",
       "      <td>1</td>\n",
       "      <td>1</td>\n",
       "      <td>138361.48</td>\n",
       "      <td>0</td>\n",
       "    </tr>\n",
       "    <tr>\n",
       "      <th>9956</th>\n",
       "      <td>9957</td>\n",
       "      <td>15707861</td>\n",
       "      <td>Nucci</td>\n",
       "      <td>520</td>\n",
       "      <td>France</td>\n",
       "      <td>Female</td>\n",
       "      <td>46</td>\n",
       "      <td>NaN</td>\n",
       "      <td>85216.61</td>\n",
       "      <td>1</td>\n",
       "      <td>1</td>\n",
       "      <td>0</td>\n",
       "      <td>117369.52</td>\n",
       "      <td>1</td>\n",
       "    </tr>\n",
       "    <tr>\n",
       "      <th>9964</th>\n",
       "      <td>9965</td>\n",
       "      <td>15642785</td>\n",
       "      <td>Douglas</td>\n",
       "      <td>479</td>\n",
       "      <td>France</td>\n",
       "      <td>Male</td>\n",
       "      <td>34</td>\n",
       "      <td>NaN</td>\n",
       "      <td>117593.48</td>\n",
       "      <td>2</td>\n",
       "      <td>0</td>\n",
       "      <td>0</td>\n",
       "      <td>113308.29</td>\n",
       "      <td>0</td>\n",
       "    </tr>\n",
       "    <tr>\n",
       "      <th>9985</th>\n",
       "      <td>9986</td>\n",
       "      <td>15586914</td>\n",
       "      <td>Nepean</td>\n",
       "      <td>659</td>\n",
       "      <td>France</td>\n",
       "      <td>Male</td>\n",
       "      <td>36</td>\n",
       "      <td>NaN</td>\n",
       "      <td>123841.49</td>\n",
       "      <td>2</td>\n",
       "      <td>1</td>\n",
       "      <td>0</td>\n",
       "      <td>96833.00</td>\n",
       "      <td>0</td>\n",
       "    </tr>\n",
       "    <tr>\n",
       "      <th>9999</th>\n",
       "      <td>10000</td>\n",
       "      <td>15628319</td>\n",
       "      <td>Walker</td>\n",
       "      <td>792</td>\n",
       "      <td>France</td>\n",
       "      <td>Female</td>\n",
       "      <td>28</td>\n",
       "      <td>NaN</td>\n",
       "      <td>130142.79</td>\n",
       "      <td>1</td>\n",
       "      <td>1</td>\n",
       "      <td>0</td>\n",
       "      <td>38190.78</td>\n",
       "      <td>0</td>\n",
       "    </tr>\n",
       "  </tbody>\n",
       "</table>\n",
       "<p>909 rows × 14 columns</p>\n",
       "</div>"
      ],
      "text/plain": [
       "      RowNumber  CustomerId    Surname  CreditScore Geography  Gender  Age  \\\n",
       "30           31    15589475    Azikiwe          591     Spain  Female   39   \n",
       "48           49    15766205        Yin          550   Germany    Male   38   \n",
       "51           52    15768193  Trevisani          585   Germany    Male   36   \n",
       "53           54    15702298   Parkhill          655   Germany    Male   41   \n",
       "60           61    15651280     Hunter          742   Germany    Male   35   \n",
       "...         ...         ...        ...          ...       ...     ...  ...   \n",
       "9944       9945    15703923    Cameron          744   Germany    Male   41   \n",
       "9956       9957    15707861      Nucci          520    France  Female   46   \n",
       "9964       9965    15642785    Douglas          479    France    Male   34   \n",
       "9985       9986    15586914     Nepean          659    France    Male   36   \n",
       "9999      10000    15628319     Walker          792    France  Female   28   \n",
       "\n",
       "      Tenure    Balance  NumOfProducts  HasCrCard  IsActiveMember  \\\n",
       "30       NaN       0.00              3          1               0   \n",
       "48       NaN  103391.38              1          0               1   \n",
       "51       NaN  146050.97              2          0               0   \n",
       "53       NaN  125561.97              1          0               0   \n",
       "60       NaN  136857.00              1          0               0   \n",
       "...      ...        ...            ...        ...             ...   \n",
       "9944     NaN  190409.34              2          1               1   \n",
       "9956     NaN   85216.61              1          1               0   \n",
       "9964     NaN  117593.48              2          0               0   \n",
       "9985     NaN  123841.49              2          1               0   \n",
       "9999     NaN  130142.79              1          1               0   \n",
       "\n",
       "      EstimatedSalary  Exited  \n",
       "30          140469.38       1  \n",
       "48           90878.13       0  \n",
       "51           86424.57       0  \n",
       "53          164040.94       1  \n",
       "60           84509.57       0  \n",
       "...               ...     ...  \n",
       "9944        138361.48       0  \n",
       "9956        117369.52       1  \n",
       "9964        113308.29       0  \n",
       "9985         96833.00       0  \n",
       "9999         38190.78       0  \n",
       "\n",
       "[909 rows x 14 columns]"
      ]
     },
     "execution_count": 7,
     "metadata": {},
     "output_type": "execute_result"
    }
   ],
   "source": [
    "bank[bank['Tenure'].isna()]"
   ]
  },
  {
   "cell_type": "code",
   "execution_count": 8,
   "metadata": {},
   "outputs": [
    {
     "data": {
      "text/plain": [
       "1.0     952\n",
       "2.0     950\n",
       "8.0     933\n",
       "3.0     928\n",
       "5.0     927\n",
       "7.0     925\n",
       "4.0     885\n",
       "9.0     882\n",
       "6.0     881\n",
       "10.0    446\n",
       "0.0     382\n",
       "Name: Tenure, dtype: int64"
      ]
     },
     "execution_count": 8,
     "metadata": {},
     "output_type": "execute_result"
    }
   ],
   "source": [
    "bank['Tenure'].value_counts()"
   ]
  },
  {
   "cell_type": "markdown",
   "metadata": {},
   "source": [
    "As we can see, there are 909 rows with missing values in the Tenure column. I can't replace those values so i will later drop them as they are only 9% of the data. "
   ]
  },
  {
   "cell_type": "code",
   "execution_count": 10,
   "metadata": {},
   "outputs": [
    {
     "data": {
      "text/plain": [
       "0"
      ]
     },
     "execution_count": 10,
     "metadata": {},
     "output_type": "execute_result"
    }
   ],
   "source": [
    "bank.duplicated().sum()"
   ]
  },
  {
   "cell_type": "code",
   "execution_count": 11,
   "metadata": {},
   "outputs": [],
   "source": [
    "#Lowering all gthe columns names, that will make my work easier.\n",
    "bank.columns = bank.columns.str.lower()"
   ]
  },
  {
   "cell_type": "code",
   "execution_count": 12,
   "metadata": {},
   "outputs": [],
   "source": [
    "#droping the 'rownumber' column, i doesnt contain relevent data for thhis project.\n",
    "bank.drop(['rownumber'],axis =1,inplace = True)"
   ]
  },
  {
   "cell_type": "markdown",
   "metadata": {},
   "source": [
    "Next, i want to see wich features are categorical and wich are numerical. I will also check the corralation between the columns, To see if there are any column that can be droped due to high correlation. "
   ]
  },
  {
   "cell_type": "code",
   "execution_count": 13,
   "metadata": {
    "scrolled": true
   },
   "outputs": [
    {
     "data": {
      "image/png": "[encoded data removed]",
      "text/plain": [
       "<Figure size 1080x360 with 2 Axes>"
      ]
     },
     "metadata": {
      "needs_background": "light"
     },
     "output_type": "display_data"
    }
   ],
   "source": [
    "#Checking the corralation between the columns\n",
    "plt.figure(figsize = (15,5))\n",
    "ax = sns.heatmap(bank.corr(),annot =True,cmap = 'cividis')\n",
    "bottom,top = ax.get_ylim()\n",
    "ax.set_ylim (bottom + 0.5);\n",
    "plt.yticks(rotation = 0);"
   ]
  },
  {
   "cell_type": "markdown",
   "metadata": {},
   "source": [
    "We can see from the heatmap above that there are no strong corralations between any columns, so i will keep alll the columns for now."
   ]
  },
  {
   "cell_type": "code",
   "execution_count": 14,
   "metadata": {},
   "outputs": [
    {
     "data": {
      "text/html": [
       "<div>\n",
       "<style scoped>\n",
       "    .dataframe tbody tr th:only-of-type {\n",
       "        vertical-align: middle;\n",
       "    }\n",
       "\n",
       "    .dataframe tbody tr th {\n",
       "        vertical-align: top;\n",
       "    }\n",
       "\n",
       "    .dataframe thead th {\n",
       "        text-align: right;\n",
       "    }\n",
       "</style>\n",
       "<table border=\"1\" class=\"dataframe\">\n",
       "  <thead>\n",
       "    <tr style=\"text-align: right;\">\n",
       "      <th></th>\n",
       "      <th>customerid</th>\n",
       "      <th>surname</th>\n",
       "      <th>creditscore</th>\n",
       "      <th>geography</th>\n",
       "      <th>gender</th>\n",
       "      <th>age</th>\n",
       "      <th>tenure</th>\n",
       "      <th>balance</th>\n",
       "      <th>numofproducts</th>\n",
       "      <th>hascrcard</th>\n",
       "      <th>isactivemember</th>\n",
       "      <th>estimatedsalary</th>\n",
       "      <th>exited</th>\n",
       "    </tr>\n",
       "  </thead>\n",
       "  <tbody>\n",
       "    <tr>\n",
       "      <th>0</th>\n",
       "      <td>15634602</td>\n",
       "      <td>Hargrave</td>\n",
       "      <td>619</td>\n",
       "      <td>France</td>\n",
       "      <td>Female</td>\n",
       "      <td>42</td>\n",
       "      <td>2.0</td>\n",
       "      <td>0.00</td>\n",
       "      <td>1</td>\n",
       "      <td>1</td>\n",
       "      <td>1</td>\n",
       "      <td>101348.88</td>\n",
       "      <td>1</td>\n",
       "    </tr>\n",
       "    <tr>\n",
       "      <th>1</th>\n",
       "      <td>15647311</td>\n",
       "      <td>Hill</td>\n",
       "      <td>608</td>\n",
       "      <td>Spain</td>\n",
       "      <td>Female</td>\n",
       "      <td>41</td>\n",
       "      <td>1.0</td>\n",
       "      <td>83807.86</td>\n",
       "      <td>1</td>\n",
       "      <td>0</td>\n",
       "      <td>1</td>\n",
       "      <td>112542.58</td>\n",
       "      <td>0</td>\n",
       "    </tr>\n",
       "    <tr>\n",
       "      <th>2</th>\n",
       "      <td>15619304</td>\n",
       "      <td>Onio</td>\n",
       "      <td>502</td>\n",
       "      <td>France</td>\n",
       "      <td>Female</td>\n",
       "      <td>42</td>\n",
       "      <td>8.0</td>\n",
       "      <td>159660.80</td>\n",
       "      <td>3</td>\n",
       "      <td>1</td>\n",
       "      <td>0</td>\n",
       "      <td>113931.57</td>\n",
       "      <td>1</td>\n",
       "    </tr>\n",
       "    <tr>\n",
       "      <th>3</th>\n",
       "      <td>15701354</td>\n",
       "      <td>Boni</td>\n",
       "      <td>699</td>\n",
       "      <td>France</td>\n",
       "      <td>Female</td>\n",
       "      <td>39</td>\n",
       "      <td>1.0</td>\n",
       "      <td>0.00</td>\n",
       "      <td>2</td>\n",
       "      <td>0</td>\n",
       "      <td>0</td>\n",
       "      <td>93826.63</td>\n",
       "      <td>0</td>\n",
       "    </tr>\n",
       "    <tr>\n",
       "      <th>4</th>\n",
       "      <td>15737888</td>\n",
       "      <td>Mitchell</td>\n",
       "      <td>850</td>\n",
       "      <td>Spain</td>\n",
       "      <td>Female</td>\n",
       "      <td>43</td>\n",
       "      <td>2.0</td>\n",
       "      <td>125510.82</td>\n",
       "      <td>1</td>\n",
       "      <td>1</td>\n",
       "      <td>1</td>\n",
       "      <td>79084.10</td>\n",
       "      <td>0</td>\n",
       "    </tr>\n",
       "  </tbody>\n",
       "</table>\n",
       "</div>"
      ],
      "text/plain": [
       "   customerid   surname  creditscore geography  gender  age  tenure  \\\n",
       "0    15634602  Hargrave          619    France  Female   42     2.0   \n",
       "1    15647311      Hill          608     Spain  Female   41     1.0   \n",
       "2    15619304      Onio          502    France  Female   42     8.0   \n",
       "3    15701354      Boni          699    France  Female   39     1.0   \n",
       "4    15737888  Mitchell          850     Spain  Female   43     2.0   \n",
       "\n",
       "     balance  numofproducts  hascrcard  isactivemember  estimatedsalary  \\\n",
       "0       0.00              1          1               1        101348.88   \n",
       "1   83807.86              1          0               1        112542.58   \n",
       "2  159660.80              3          1               0        113931.57   \n",
       "3       0.00              2          0               0         93826.63   \n",
       "4  125510.82              1          1               1         79084.10   \n",
       "\n",
       "   exited  \n",
       "0       1  \n",
       "1       0  \n",
       "2       1  \n",
       "3       0  \n",
       "4       0  "
      ]
     },
     "execution_count": 14,
     "metadata": {},
     "output_type": "execute_result"
    }
   ],
   "source": [
    "bank.head()"
   ]
  },
  {
   "cell_type": "code",
   "execution_count": 15,
   "metadata": {},
   "outputs": [
    {
     "data": {
      "text/plain": [
       "France     5014\n",
       "Germany    2509\n",
       "Spain      2477\n",
       "Name: geography, dtype: int64"
      ]
     },
     "execution_count": 15,
     "metadata": {},
     "output_type": "execute_result"
    }
   ],
   "source": [
    "bank.geography.value_counts()"
   ]
  },
  {
   "cell_type": "code",
   "execution_count": 16,
   "metadata": {},
   "outputs": [
    {
     "data": {
      "text/plain": [
       "Male      5457\n",
       "Female    4543\n",
       "Name: gender, dtype: int64"
      ]
     },
     "execution_count": 16,
     "metadata": {},
     "output_type": "execute_result"
    }
   ],
   "source": [
    "bank.gender.value_counts()"
   ]
  },
  {
   "cell_type": "markdown",
   "metadata": {},
   "source": [
    "I can see that the 'geography' and 'gender' features are categorical. Next i will plot a histogram that will show me the rest.  "
   ]
  },
  {
   "cell_type": "code",
   "execution_count": 17,
   "metadata": {
    "scrolled": false
   },
   "outputs": [
    {
     "data": {
      "image/png": "[encoded data removed]",
      "text/plain": [
       "<Figure size 1080x504 with 12 Axes>"
      ]
     },
     "metadata": {
      "needs_background": "light"
     },
     "output_type": "display_data"
    }
   ],
   "source": [
    "#plotting a histogram that will help me understand wich features are categorical and wich are numerical\n",
    "bank.hist(edgecolor = 'black',linewidth = 0.5,figsize = (15,7))\n",
    "plt.tight_layout()\n",
    "plt.show()"
   ]
  },
  {
   "cell_type": "markdown",
   "metadata": {},
   "source": [
    "from this visualisation, i can see that the categorical features are 'numofproducts','hascard','isactivemember' and of course the target column 'exited'. "
   ]
  },
  {
   "cell_type": "markdown",
   "metadata": {},
   "source": [
    "Next i will One Hot Encode the categoraical features so i could train the model successfully, but first i am going to drop the 'customerid' and 'surname' features, i wont be needing them to train my model."
   ]
  },
  {
   "cell_type": "code",
   "execution_count": 18,
   "metadata": {},
   "outputs": [],
   "source": [
    "#Dropping the 'customerid','surname' columns.\n",
    "bank.drop(['customerid','surname'],axis = 1, inplace = True)"
   ]
  },
  {
   "cell_type": "code",
   "execution_count": 19,
   "metadata": {},
   "outputs": [],
   "source": [
    "#Changing the type of the 'numofproducts' column so it will get encoded with the rest of the categorical features \n",
    "bank.numofproducts = bank.numofproducts.astype('object')"
   ]
  },
  {
   "cell_type": "markdown",
   "metadata": {},
   "source": [
    "Next, i will call the pd.get_dummies() function to get  separate columns for each feature value.\n",
    "I will set the drop_first = True, so it will remove any unnecessary colunmns -coulumns that there values can be easily inferred from the other coliumns."
   ]
  },
  {
   "cell_type": "code",
   "execution_count": 20,
   "metadata": {},
   "outputs": [],
   "source": [
    "#calling the pd.get_dummies function \n",
    "bank_ohe = pd.get_dummies(bank,drop_first=True)\n"
   ]
  },
  {
   "cell_type": "code",
   "execution_count": 21,
   "metadata": {
    "scrolled": true
   },
   "outputs": [
    {
     "data": {
      "text/html": [
       "<div>\n",
       "<style scoped>\n",
       "    .dataframe tbody tr th:only-of-type {\n",
       "        vertical-align: middle;\n",
       "    }\n",
       "\n",
       "    .dataframe tbody tr th {\n",
       "        vertical-align: top;\n",
       "    }\n",
       "\n",
       "    .dataframe thead th {\n",
       "        text-align: right;\n",
       "    }\n",
       "</style>\n",
       "<table border=\"1\" class=\"dataframe\">\n",
       "  <thead>\n",
       "    <tr style=\"text-align: right;\">\n",
       "      <th></th>\n",
       "      <th>creditscore</th>\n",
       "      <th>age</th>\n",
       "      <th>tenure</th>\n",
       "      <th>balance</th>\n",
       "      <th>hascrcard</th>\n",
       "      <th>isactivemember</th>\n",
       "      <th>estimatedsalary</th>\n",
       "      <th>exited</th>\n",
       "      <th>geography_Germany</th>\n",
       "      <th>geography_Spain</th>\n",
       "      <th>gender_Male</th>\n",
       "      <th>numofproducts_2</th>\n",
       "      <th>numofproducts_3</th>\n",
       "      <th>numofproducts_4</th>\n",
       "    </tr>\n",
       "  </thead>\n",
       "  <tbody>\n",
       "    <tr>\n",
       "      <th>0</th>\n",
       "      <td>619</td>\n",
       "      <td>42</td>\n",
       "      <td>2.0</td>\n",
       "      <td>0.00</td>\n",
       "      <td>1</td>\n",
       "      <td>1</td>\n",
       "      <td>101348.88</td>\n",
       "      <td>1</td>\n",
       "      <td>0</td>\n",
       "      <td>0</td>\n",
       "      <td>0</td>\n",
       "      <td>0</td>\n",
       "      <td>0</td>\n",
       "      <td>0</td>\n",
       "    </tr>\n",
       "    <tr>\n",
       "      <th>1</th>\n",
       "      <td>608</td>\n",
       "      <td>41</td>\n",
       "      <td>1.0</td>\n",
       "      <td>83807.86</td>\n",
       "      <td>0</td>\n",
       "      <td>1</td>\n",
       "      <td>112542.58</td>\n",
       "      <td>0</td>\n",
       "      <td>0</td>\n",
       "      <td>1</td>\n",
       "      <td>0</td>\n",
       "      <td>0</td>\n",
       "      <td>0</td>\n",
       "      <td>0</td>\n",
       "    </tr>\n",
       "    <tr>\n",
       "      <th>2</th>\n",
       "      <td>502</td>\n",
       "      <td>42</td>\n",
       "      <td>8.0</td>\n",
       "      <td>159660.80</td>\n",
       "      <td>1</td>\n",
       "      <td>0</td>\n",
       "      <td>113931.57</td>\n",
       "      <td>1</td>\n",
       "      <td>0</td>\n",
       "      <td>0</td>\n",
       "      <td>0</td>\n",
       "      <td>0</td>\n",
       "      <td>1</td>\n",
       "      <td>0</td>\n",
       "    </tr>\n",
       "    <tr>\n",
       "      <th>3</th>\n",
       "      <td>699</td>\n",
       "      <td>39</td>\n",
       "      <td>1.0</td>\n",
       "      <td>0.00</td>\n",
       "      <td>0</td>\n",
       "      <td>0</td>\n",
       "      <td>93826.63</td>\n",
       "      <td>0</td>\n",
       "      <td>0</td>\n",
       "      <td>0</td>\n",
       "      <td>0</td>\n",
       "      <td>1</td>\n",
       "      <td>0</td>\n",
       "      <td>0</td>\n",
       "    </tr>\n",
       "    <tr>\n",
       "      <th>4</th>\n",
       "      <td>850</td>\n",
       "      <td>43</td>\n",
       "      <td>2.0</td>\n",
       "      <td>125510.82</td>\n",
       "      <td>1</td>\n",
       "      <td>1</td>\n",
       "      <td>79084.10</td>\n",
       "      <td>0</td>\n",
       "      <td>0</td>\n",
       "      <td>1</td>\n",
       "      <td>0</td>\n",
       "      <td>0</td>\n",
       "      <td>0</td>\n",
       "      <td>0</td>\n",
       "    </tr>\n",
       "  </tbody>\n",
       "</table>\n",
       "</div>"
      ],
      "text/plain": [
       "   creditscore  age  tenure    balance  hascrcard  isactivemember  \\\n",
       "0          619   42     2.0       0.00          1               1   \n",
       "1          608   41     1.0   83807.86          0               1   \n",
       "2          502   42     8.0  159660.80          1               0   \n",
       "3          699   39     1.0       0.00          0               0   \n",
       "4          850   43     2.0  125510.82          1               1   \n",
       "\n",
       "   estimatedsalary  exited  geography_Germany  geography_Spain  gender_Male  \\\n",
       "0        101348.88       1                  0                0            0   \n",
       "1        112542.58       0                  0                1            0   \n",
       "2        113931.57       1                  0                0            0   \n",
       "3         93826.63       0                  0                0            0   \n",
       "4         79084.10       0                  0                1            0   \n",
       "\n",
       "   numofproducts_2  numofproducts_3  numofproducts_4  \n",
       "0                0                0                0  \n",
       "1                0                0                0  \n",
       "2                0                1                0  \n",
       "3                1                0                0  \n",
       "4                0                0                0  "
      ]
     },
     "execution_count": 21,
     "metadata": {},
     "output_type": "execute_result"
    }
   ],
   "source": [
    "bank_ohe.head()"
   ]
  },
  {
   "cell_type": "markdown",
   "metadata": {},
   "source": [
    "Before training my model, i will examine the balance of classes"
   ]
  },
  {
   "cell_type": "code",
   "execution_count": 22,
   "metadata": {},
   "outputs": [
    {
     "data": {
      "text/plain": [
       "0    7963\n",
       "1    2037\n",
       "Name: exited, dtype: int64"
      ]
     },
     "execution_count": 22,
     "metadata": {},
     "output_type": "execute_result"
    }
   ],
   "source": [
    "bank.exited.value_counts()"
   ]
  },
  {
   "cell_type": "markdown",
   "metadata": {},
   "source": [
    "From this investigation, we can tell that whave imbalenced classes, there  a lot more 0 values in the target column then 1 values. I will start training my model without balancing the dataset, and compare it later with the adjusted version."
   ]
  },
  {
   "cell_type": "markdown",
   "metadata": {},
   "source": [
    "## Spliting the source data into a training set, a validation set, and a test set.\n"
   ]
  },
  {
   "cell_type": "markdown",
   "metadata": {},
   "source": [
    "Next, i will split the dataset into a training set, a validation set, and a test set. \n",
    "The sizes of validation set and test set are usually equal, so i will use  split the data in a 3:1:1 ratio: 20% for the test, 20% for validation and 60% for training\n"
   ]
  },
  {
   "cell_type": "code",
   "execution_count": 23,
   "metadata": {},
   "outputs": [],
   "source": [
    "#splitting the data and removing the missing values i found earlier\n",
    "train_set, plan_test = train_test_split(bank_ohe.dropna(), test_size=0.2,train_size=0.8, random_state=54321,shuffle =True )\n",
    "plan_train, plan_valid = train_test_split(train_set, random_state=54321,test_size = 0.25,train_size =0.75) \n",
    "\n",
    "#Declaring features and target variables \n",
    "features_train = plan_train.drop(['exited'], axis=1)\n",
    "target_train = plan_train['exited']\n",
    "features_valid = plan_valid.drop(['exited'], axis=1)\n",
    "target_valid = plan_valid['exited']\n",
    "features_test = plan_test.drop(['exited'], axis=1)\n",
    "target_test = plan_test['exited']"
   ]
  },
  {
   "cell_type": "markdown",
   "metadata": {},
   "source": [
    "## Investigating the quality of different models"
   ]
  },
  {
   "cell_type": "markdown",
   "metadata": {},
   "source": [
    "Next, I want to Investigate the quality of different models by changing hyperparameters. I will  use  classification models for this project, becasue we are dealing with two potential outcomes :1 = exited, 0 = didnt exit. The models i am going to examine are RandomForestClassifier and LogisticRegression."
   ]
  },
  {
   "cell_type": "code",
   "execution_count": 24,
   "metadata": {},
   "outputs": [
    {
     "name": "stdout",
     "output_type": "stream",
     "text": [
      "The best f1 score: 0.6006493506493508 Best est :  17 best_depth :  24\n"
     ]
    }
   ],
   "source": [
    "#creating a loop that checks the best number for the n_estimators Hyperparameter and max_depth Hyperparameter\n",
    "\n",
    "best_model = None\n",
    "best_result = 0.50\n",
    "best_est = 0\n",
    "best_depth = 0\n",
    "for est in range(1, 30,2):\n",
    "    for depth in range (1, 30):\n",
    "        model = RandomForestClassifier(random_state=54321, n_estimators=est,max_depth = depth ) \n",
    "        model.fit(features_train,target_train) # train model on training set\n",
    "        predicted_valid = model.predict(features_valid)\n",
    "\n",
    "        f1 = f1_score(target_valid,predicted_valid)\n",
    "        if f1 > best_result: \n",
    "            \n",
    "            best_result = f1\n",
    "            best_est = est\n",
    "            best_depth = depth\n",
    "print(\"The best f1 score:\",best_result,\"Best est : \",best_est,\"best_depth : \",best_depth)\n",
    " "
   ]
  },
  {
   "cell_type": "markdown",
   "metadata": {},
   "source": [
    "We got a 0.60 score using the RandomForestClassifier with max_depth = 24 and n_estimators = 17. This score is better than the threshold that was set, 059, but i still want to check if the model can't improve.  \n",
    "I will try to train a LogisticRegression and see if the model imroves"
   ]
  },
  {
   "cell_type": "code",
   "execution_count": 25,
   "metadata": {},
   "outputs": [
    {
     "name": "stdout",
     "output_type": "stream",
     "text": [
      "The best  f1 score: 0.5862646566164154 Best solver :  newton-cg  best itter :  1\n"
     ]
    }
   ],
   "source": [
    "#creating a loop that checks the best number for the max_iter Hyperparameter and the best solver Hyperparameter\n",
    "\n",
    "best_model = None\n",
    "l_best_result = 0.50\n",
    "best_solver = 'lbfgs'\n",
    "best_iter = 0\n",
    "for iter_it in range (1, 100,10):\n",
    "    for s in ['newton-cg', 'lbfgs', 'liblinear', 'sag', 'saga']:\n",
    "        \n",
    "\n",
    "        lr_model = LogisticRegression(random_state=12345, solver=s,max_iter = iter_it) \n",
    "        lr_model.fit(features_train, target_train) \n",
    "        l_predicted_valid = model.predict(features_valid)\n",
    "        l_f1 = f1_score(target_valid,predicted_valid)\n",
    "        if l_f1 > l_best_result:\n",
    "            best_model = lr_model\n",
    "            l_best_result = l_f1 \n",
    "            best_solver = s\n",
    "            best_iter = iter_it\n",
    "\n",
    "print(\"The best  f1 score:\",l_best_result,\"Best solver : \",best_solver,\" best itter : \",best_iter)\n"
   ]
  },
  {
   "cell_type": "markdown",
   "metadata": {},
   "source": [
    "As we can see, using LogisticRegression didnt improve the model's f1 score (now its 0.58).\n",
    "\n",
    "\n",
    "Next, i will balance the classes and try Improve the quality of the model.\n",
    "I will use  three approaches to fixing class imbalance:\n",
    "1. Adjusting The class_weight parameter\n",
    "2. Upsampling \n",
    "3. Downsampling "
   ]
  },
  {
   "cell_type": "markdown",
   "metadata": {},
   "source": [
    "### Adjusting The class_weight parameter\n"
   ]
  },
  {
   "cell_type": "code",
   "execution_count": 26,
   "metadata": {},
   "outputs": [
    {
     "name": "stdout",
     "output_type": "stream",
     "text": [
      "The best f1 score: 0.6452353616532721 Best est :  19 best_depth :  7\n"
     ]
    }
   ],
   "source": [
    "#creating a loop that checks the best number for the n_estimators Hyperparameter and max_depth Hyperparameter \n",
    "##With class_weight='balanced'\n",
    "\n",
    "best_model = None\n",
    "best_result = 0.50\n",
    "best_est = 0\n",
    "best_depth = 0\n",
    "for est in range(1, 30,2):\n",
    "    for depth in range (1, 30):\n",
    "        model = RandomForestClassifier(random_state=54321, n_estimators=est,max_depth = depth,class_weight='balanced') \n",
    "        model.fit(features_train,target_train) # train model on training set\n",
    "        predicted_valid = model.predict(features_valid)\n",
    "\n",
    "        f1 = f1_score(target_valid,predicted_valid)\n",
    "        if f1 > best_result: \n",
    "            \n",
    "            best_result = f1\n",
    "            best_est = est\n",
    "            best_depth = depth\n",
    "print(\"The best f1 score:\",best_result,\"Best est : \",best_est,\"best_depth : \",best_depth)\n",
    " "
   ]
  },
  {
   "cell_type": "markdown",
   "metadata": {},
   "source": [
    "We can see the f1 score has improved to 0.64 with the  RandomForestClassifiermodel"
   ]
  },
  {
   "cell_type": "code",
   "execution_count": 27,
   "metadata": {},
   "outputs": [
    {
     "name": "stdout",
     "output_type": "stream",
     "text": [
      "The best  f1 score: 0.561525129982669 Best solver :  newton-cg  best itter :  1\n"
     ]
    }
   ],
   "source": [
    "#creating a loop that checks the best number for the max_iter Hyperparameter and the best solver Hyperparameter\n",
    "##With class_weight='balanced'\n",
    "\n",
    "best_model = None\n",
    "l_best_result = 0.50\n",
    "best_solver = 'lbfgs'\n",
    "best_iter = 0\n",
    "for iter_it in range (1, 250,10):\n",
    "    for s in ['newton-cg', 'lbfgs', 'liblinear', 'sag', 'saga']:\n",
    "        \n",
    "\n",
    "        lr_model = LogisticRegression(random_state=12345, solver=s,max_iter = iter_it,class_weight='balanced') \n",
    "        lr_model.fit(features_train, target_train) \n",
    "        l_predicted_valid = model.predict(features_valid)\n",
    "        l_f1 = f1_score(target_valid,predicted_valid)\n",
    "        if l_f1 > l_best_result:\n",
    "            best_model = lr_model\n",
    "            l_best_result = l_f1\n",
    "            best_solver = s\n",
    "            best_iter = iter_it\n",
    "\n",
    "print(\"The best  f1 score:\",l_best_result,\"Best solver : \",best_solver,\" best itter : \",best_iter)\n"
   ]
  },
  {
   "cell_type": "markdown",
   "metadata": {},
   "source": [
    "We can see the f1 score has not improved with 0.56 using the  LogisticRegression model."
   ]
  },
  {
   "cell_type": "markdown",
   "metadata": {},
   "source": [
    "### Upsampling \n"
   ]
  },
  {
   "cell_type": "code",
   "execution_count": 28,
   "metadata": {},
   "outputs": [
    {
     "name": "stdout",
     "output_type": "stream",
     "text": [
      "F1: 0.40022172949002216\n"
     ]
    }
   ],
   "source": [
    "#creating a function that will return  the features and target after upsampling\n",
    "def upsample(features, target, repeat):\n",
    "    features_zeros = features[target == 0]\n",
    "    features_ones = features[target == 1]\n",
    "    target_zeros = target[target == 0]\n",
    "    target_ones = target[target == 1]\n",
    "\n",
    "    features_upsampled = pd.concat([features_zeros] + [features_ones] * repeat)\n",
    "    target_upsampled = pd.concat([target_zeros] + [target_ones] * repeat)\n",
    "\n",
    "    features_upsampled, target_upsampled = shuffle(\n",
    "        features_upsampled, target_upsampled, random_state=12345\n",
    "    )\n",
    "\n",
    "    return features_upsampled, target_upsampled\n",
    "\n",
    "\n",
    "features_upsampled, target_upsampled = upsample(\n",
    "    features_train, target_train, 20\n",
    ")\n",
    "\n",
    "model = LogisticRegression(random_state = 12345,solver = 'newton-cg',)\n",
    "\n",
    "\n",
    "\n",
    "model.fit(features_upsampled,target_upsampled)\n",
    "predicted_valid = model.predict(features_valid)\n",
    "print('F1:', f1_score(target_valid, predicted_valid))"
   ]
  },
  {
   "cell_type": "markdown",
   "metadata": {},
   "source": [
    "### Downsampling"
   ]
  },
  {
   "cell_type": "code",
   "execution_count": 29,
   "metadata": {},
   "outputs": [
    {
     "name": "stdout",
     "output_type": "stream",
     "text": [
      "F1: 0.45551128818061093\n"
     ]
    }
   ],
   "source": [
    "#creating a function that will return  the features and target after upsampling\n",
    "\n",
    "def downsample(features, target, fraction):\n",
    "    features_zeros = features[target == 0]\n",
    "    features_ones = features[target == 1]\n",
    "    target_zeros = target[target == 0]\n",
    "    target_ones = target[target == 1]\n",
    "\n",
    "    features_downsampled = pd.concat(\n",
    "        [features_zeros.sample(frac=fraction, random_state=12345)]\n",
    "        + [features_ones]\n",
    "    )\n",
    "    target_downsampled = pd.concat(\n",
    "        [target_zeros.sample(frac=fraction, random_state=12345)]\n",
    "        + [target_ones]\n",
    "    )\n",
    "\n",
    "    features_downsampled, target_downsampled = shuffle(\n",
    "        features_downsampled, target_downsampled, random_state=12345\n",
    "    )\n",
    "\n",
    "    return features_downsampled, target_downsampled\n",
    "\n",
    "\n",
    "features_downsampled, target_downsampled = downsample(\n",
    "    features_train, target_train, 0.1\n",
    ")\n",
    "\n",
    "model = LogisticRegression(random_state = 12345,solver = 'newton-cg')\n",
    "model.fit(features_downsampled,target_downsampled)\n",
    "predicted_valid = model.predict(features_valid)\n",
    "print('F1:', f1_score(target_valid, predicted_valid))"
   ]
  },
  {
   "cell_type": "code",
   "execution_count": 30,
   "metadata": {},
   "outputs": [
    {
     "name": "stdout",
     "output_type": "stream",
     "text": [
      "F1: 0.5373134328358209\n"
     ]
    }
   ],
   "source": [
    "model = RandomForestClassifier(random_state=54321, n_estimators=19,max_depth = 7,class_weight='balanced') \n",
    "model.fit(features_downsampled,target_downsampled)\n",
    "predicted_valid = model.predict(features_valid)\n",
    "print('F1:', f1_score(target_valid, predicted_valid))"
   ]
  },
  {
   "cell_type": "code",
   "execution_count": 31,
   "metadata": {},
   "outputs": [
    {
     "name": "stdout",
     "output_type": "stream",
     "text": [
      "F1: 0.6086956521739131\n"
     ]
    }
   ],
   "source": [
    "model = RandomForestClassifier(random_state=54321, n_estimators=19,max_depth = 7,class_weight='balanced') \n",
    "model.fit(features_upsampled,target_upsampled)\n",
    "predicted_valid = model.predict(features_valid)\n",
    "print('F1:', f1_score(target_valid, predicted_valid))\n"
   ]
  },
  {
   "cell_type": "markdown",
   "metadata": {},
   "source": [
    "It looks like upsampling and downsampling didnt improve the model. I got the best F1 score with the model : \n",
    "\n",
    "RandomForestClassifier(random_state=54321, n_estimators=19,max_depth = 7,class_weight='balanced')\n",
    "\n",
    "I will train my model with those parameters. "
   ]
  },
  {
   "cell_type": "code",
   "execution_count": 32,
   "metadata": {},
   "outputs": [
    {
     "data": {
      "text/plain": [
       "0.6002190580503833"
      ]
     },
     "execution_count": 32,
     "metadata": {},
     "output_type": "execute_result"
    }
   ],
   "source": [
    "#Testing the final model with the test dataset\n",
    "final_model = RandomForestClassifier(random_state=54321, n_estimators=19,max_depth = 7,class_weight='balanced') \n",
    "final_model.fit(features_train,target_train) # train model on training set\n",
    "predicted_test = final_model.predict(features_test)\n",
    "\n",
    "f1f = f1_score(target_test,predicted_test)\n",
    "f1f"
   ]
  },
  {
   "cell_type": "markdown",
   "metadata": {},
   "source": [
    "We got a 0.60 score, wich makes our model a successful model based on the 0.59 threshold."
   ]
  },
  {
   "cell_type": "markdown",
   "metadata": {},
   "source": [
    "Finnaly, i want to check the quality of the model by \n",
    "calculating AUC-ROC. The closer the AUC-ROC is to 1, the he better the model's quality. The AUC-ROC value for a random model is 0.5."
   ]
  },
  {
   "cell_type": "code",
   "execution_count": 34,
   "metadata": {},
   "outputs": [
    {
     "name": "stdout",
     "output_type": "stream",
     "text": [
      "0.846155093042858\n"
     ]
    }
   ],
   "source": [
    "\n",
    "final_model = RandomForestClassifier(random_state=54321, n_estimators=19,max_depth = 7,class_weight='balanced') \n",
    "final_model.fit(features_train,target_train) # train model on training set\n",
    "probabilities_valid = model.predict_proba(features_test)\n",
    "probabilities_one_valid = probabilities_valid[:, 1]\n",
    "\n",
    "auc_roc = roc_auc_score(target_test,probabilities_one_valid)\n",
    "print(auc_roc)"
   ]
  },
  {
   "cell_type": "code",
   "execution_count": null,
   "metadata": {},
   "outputs": [],
   "source": []
  }
 ],
 "metadata": {
  "ExecuteTimeLog": [
   {
    "duration": 40,
    "start_time": "2022-06-01T11:14:00.682Z"
   },
   {
    "duration": 1484,
    "start_time": "2022-06-01T11:14:06.091Z"
   },
   {
    "duration": 189,
    "start_time": "2022-06-01T11:15:05.192Z"
   },
   {
    "duration": 61,
    "start_time": "2022-06-01T11:15:27.993Z"
   },
   {
    "duration": 14,
    "start_time": "2022-06-01T11:15:51.545Z"
   },
   {
    "duration": 25,
    "start_time": "2022-06-01T11:16:21.614Z"
   },
   {
    "duration": 1354,
    "start_time": "2022-06-04T07:24:10.790Z"
   },
   {
    "duration": 289,
    "start_time": "2022-06-04T07:24:13.861Z"
   },
   {
    "duration": 15,
    "start_time": "2022-06-04T07:24:14.988Z"
   },
   {
    "duration": 22,
    "start_time": "2022-06-04T07:24:15.588Z"
   },
   {
    "duration": 124,
    "start_time": "2022-06-04T07:27:24.590Z"
   },
   {
    "duration": 3,
    "start_time": "2022-06-04T07:27:27.410Z"
   },
   {
    "duration": 17,
    "start_time": "2022-06-04T07:27:44.957Z"
   },
   {
    "duration": 5,
    "start_time": "2022-06-04T07:28:02.995Z"
   },
   {
    "duration": 12,
    "start_time": "2022-06-04T07:28:07.895Z"
   },
   {
    "duration": 11,
    "start_time": "2022-06-04T07:38:49.896Z"
   },
   {
    "duration": 7,
    "start_time": "2022-06-04T07:38:57.263Z"
   },
   {
    "duration": 26,
    "start_time": "2022-06-04T07:48:41.457Z"
   },
   {
    "duration": 1008,
    "start_time": "2022-06-04T07:48:50.943Z"
   },
   {
    "duration": 893,
    "start_time": "2022-06-04T07:49:15.552Z"
   },
   {
    "duration": 954,
    "start_time": "2022-06-04T07:49:21.861Z"
   },
   {
    "duration": 897,
    "start_time": "2022-06-04T07:49:28.139Z"
   },
   {
    "duration": 1003,
    "start_time": "2022-06-04T07:49:35.409Z"
   },
   {
    "duration": 935,
    "start_time": "2022-06-04T07:49:46.605Z"
   },
   {
    "duration": 1299,
    "start_time": "2022-06-04T07:51:25.200Z"
   },
   {
    "duration": 1413,
    "start_time": "2022-06-04T07:51:34.767Z"
   },
   {
    "duration": 50,
    "start_time": "2022-06-04T07:54:07.227Z"
   },
   {
    "duration": 11,
    "start_time": "2022-06-04T07:54:11.957Z"
   },
   {
    "duration": 13,
    "start_time": "2022-06-04T07:54:16.043Z"
   },
   {
    "duration": 9,
    "start_time": "2022-06-04T07:54:26.757Z"
   },
   {
    "duration": 6,
    "start_time": "2022-06-04T07:54:48.244Z"
   },
   {
    "duration": 192,
    "start_time": "2022-06-04T07:58:26.614Z"
   },
   {
    "duration": 19,
    "start_time": "2022-06-04T07:58:35.066Z"
   },
   {
    "duration": 4,
    "start_time": "2022-06-04T08:20:07.815Z"
   },
   {
    "duration": 13,
    "start_time": "2022-06-04T08:20:12.491Z"
   },
   {
    "duration": 24,
    "start_time": "2022-06-04T08:20:13.603Z"
   },
   {
    "duration": 11,
    "start_time": "2022-06-04T08:20:37.507Z"
   },
   {
    "duration": 11,
    "start_time": "2022-06-04T08:35:56.346Z"
   },
   {
    "duration": 4,
    "start_time": "2022-06-04T08:36:11.314Z"
   },
   {
    "duration": 25,
    "start_time": "2022-06-04T08:36:14.747Z"
   },
   {
    "duration": 12,
    "start_time": "2022-06-04T08:36:15.558Z"
   },
   {
    "duration": 130,
    "start_time": "2022-06-04T08:45:21.987Z"
   },
   {
    "duration": 91,
    "start_time": "2022-06-04T08:45:37.824Z"
   },
   {
    "duration": 408,
    "start_time": "2022-06-04T08:45:44.317Z"
   },
   {
    "duration": 309,
    "start_time": "2022-06-04T08:46:37.290Z"
   },
   {
    "duration": 464,
    "start_time": "2022-06-04T08:46:47.318Z"
   },
   {
    "duration": 440,
    "start_time": "2022-06-04T08:46:51.210Z"
   },
   {
    "duration": 402,
    "start_time": "2022-06-04T08:46:54.449Z"
   },
   {
    "duration": 456,
    "start_time": "2022-06-04T08:47:11.486Z"
   },
   {
    "duration": 484,
    "start_time": "2022-06-04T08:47:29.598Z"
   },
   {
    "duration": 581,
    "start_time": "2022-06-04T08:47:54.917Z"
   },
   {
    "duration": 788,
    "start_time": "2022-06-04T08:48:06.318Z"
   },
   {
    "duration": 548,
    "start_time": "2022-06-04T08:48:17.929Z"
   },
   {
    "duration": 818,
    "start_time": "2022-06-04T08:48:35.198Z"
   },
   {
    "duration": 9,
    "start_time": "2022-06-04T09:43:02.143Z"
   },
   {
    "duration": 85,
    "start_time": "2022-06-04T09:43:02.419Z"
   },
   {
    "duration": 26,
    "start_time": "2022-06-04T09:43:02.615Z"
   },
   {
    "duration": 307,
    "start_time": "2022-06-04T09:43:02.795Z"
   },
   {
    "duration": 4,
    "start_time": "2022-06-04T09:43:03.104Z"
   },
   {
    "duration": 5,
    "start_time": "2022-06-04T09:43:03.149Z"
   },
   {
    "duration": 20,
    "start_time": "2022-06-04T09:43:03.348Z"
   },
   {
    "duration": 6,
    "start_time": "2022-06-04T09:43:03.512Z"
   },
   {
    "duration": 8,
    "start_time": "2022-06-04T09:43:03.710Z"
   },
   {
    "duration": 1575,
    "start_time": "2022-06-04T09:43:04.094Z"
   },
   {
    "duration": 5,
    "start_time": "2022-06-04T09:43:05.671Z"
   },
   {
    "duration": 9,
    "start_time": "2022-06-04T09:43:05.677Z"
   },
   {
    "duration": 16,
    "start_time": "2022-06-04T09:43:05.688Z"
   },
   {
    "duration": 21,
    "start_time": "2022-06-04T09:43:05.720Z"
   },
   {
    "duration": 895,
    "start_time": "2022-06-04T09:43:05.921Z"
   },
   {
    "duration": 759,
    "start_time": "2022-06-04T09:43:06.818Z"
   },
   {
    "duration": 18,
    "start_time": "2022-06-04T09:50:21.017Z"
   },
   {
    "duration": 32,
    "start_time": "2022-06-04T09:50:22.001Z"
   },
   {
    "duration": 15,
    "start_time": "2022-06-04T09:50:57.697Z"
   },
   {
    "duration": 37,
    "start_time": "2022-06-04T09:50:59.222Z"
   },
   {
    "duration": 16,
    "start_time": "2022-06-04T09:51:54.005Z"
   },
   {
    "duration": 838508,
    "start_time": "2022-06-04T09:51:56.197Z"
   },
   {
    "duration": 31,
    "start_time": "2022-06-04T10:05:54.708Z"
   },
   {
    "duration": 411161,
    "start_time": "2022-06-04T10:14:03.422Z"
   },
   {
    "duration": 214,
    "start_time": "2022-06-04T10:21:45.477Z"
   },
   {
    "duration": 3264647,
    "start_time": "2022-06-04T10:22:09.097Z"
   },
   {
    "duration": 26187,
    "start_time": "2022-06-04T11:26:19.609Z"
   },
   {
    "duration": 22,
    "start_time": "2022-06-04T11:27:57.208Z"
   },
   {
    "duration": 5,
    "start_time": "2022-06-04T11:28:27.419Z"
   },
   {
    "duration": 137,
    "start_time": "2022-06-04T11:28:31.308Z"
   },
   {
    "duration": 97,
    "start_time": "2022-06-04T11:28:37.663Z"
   },
   {
    "duration": 243,
    "start_time": "2022-06-04T11:28:47.199Z"
   },
   {
    "duration": 24707,
    "start_time": "2022-06-04T11:29:13.023Z"
   },
   {
    "duration": 45,
    "start_time": "2022-06-04T11:29:49.826Z"
   },
   {
    "duration": 15271,
    "start_time": "2022-06-04T11:30:09.166Z"
   },
   {
    "duration": 13864,
    "start_time": "2022-06-04T11:30:29.807Z"
   },
   {
    "duration": 15404,
    "start_time": "2022-06-04T11:30:50.354Z"
   },
   {
    "duration": 16021,
    "start_time": "2022-06-04T11:31:49.122Z"
   },
   {
    "duration": 16721,
    "start_time": "2022-06-04T11:32:09.922Z"
   },
   {
    "duration": 23160,
    "start_time": "2022-06-04T11:33:07.498Z"
   },
   {
    "duration": 18069,
    "start_time": "2022-06-04T11:33:44.702Z"
   },
   {
    "duration": 37794,
    "start_time": "2022-06-04T11:38:58.726Z"
   },
   {
    "duration": 38603,
    "start_time": "2022-06-04T11:39:57.645Z"
   },
   {
    "duration": 137,
    "start_time": "2022-06-04T11:42:32.325Z"
   },
   {
    "duration": 115,
    "start_time": "2022-06-04T11:46:14.584Z"
   },
   {
    "duration": 23,
    "start_time": "2022-06-04T11:48:10.217Z"
   },
   {
    "duration": 19,
    "start_time": "2022-06-04T11:48:26.152Z"
   },
   {
    "duration": 6,
    "start_time": "2022-06-04T11:48:42.385Z"
   },
   {
    "duration": 18,
    "start_time": "2022-06-04T11:49:09.152Z"
   },
   {
    "duration": 28,
    "start_time": "2022-06-04T11:49:12.046Z"
   },
   {
    "duration": 19,
    "start_time": "2022-06-04T11:49:15.551Z"
   },
   {
    "duration": 21,
    "start_time": "2022-06-04T11:49:21.258Z"
   },
   {
    "duration": 5548,
    "start_time": "2022-06-04T11:50:47.291Z"
   },
   {
    "duration": 74,
    "start_time": "2022-06-04T11:50:54.334Z"
   },
   {
    "duration": 15370,
    "start_time": "2022-06-04T11:51:17.459Z"
   },
   {
    "duration": 211,
    "start_time": "2022-06-04T11:51:56.990Z"
   },
   {
    "duration": 121,
    "start_time": "2022-06-04T11:54:26.333Z"
   },
   {
    "duration": 85,
    "start_time": "2022-06-04T11:54:43.917Z"
   },
   {
    "duration": 1493,
    "start_time": "2022-06-04T17:21:23.308Z"
   },
   {
    "duration": 99,
    "start_time": "2022-06-04T17:21:24.803Z"
   },
   {
    "duration": 14,
    "start_time": "2022-06-04T17:21:25.863Z"
   },
   {
    "duration": 21,
    "start_time": "2022-06-04T17:21:26.360Z"
   },
   {
    "duration": 4,
    "start_time": "2022-06-04T17:21:26.442Z"
   },
   {
    "duration": 5,
    "start_time": "2022-06-04T17:21:26.543Z"
   },
   {
    "duration": 14,
    "start_time": "2022-06-04T17:21:26.609Z"
   },
   {
    "duration": 8,
    "start_time": "2022-06-04T17:21:26.706Z"
   },
   {
    "duration": 6,
    "start_time": "2022-06-04T17:21:26.808Z"
   },
   {
    "duration": 1312,
    "start_time": "2022-06-04T17:21:26.944Z"
   },
   {
    "duration": 5,
    "start_time": "2022-06-04T17:21:28.258Z"
   },
   {
    "duration": 11,
    "start_time": "2022-06-04T17:21:28.264Z"
   },
   {
    "duration": 15,
    "start_time": "2022-06-04T17:21:28.277Z"
   },
   {
    "duration": 10,
    "start_time": "2022-06-04T17:21:28.294Z"
   },
   {
    "duration": 833,
    "start_time": "2022-06-04T17:21:28.306Z"
   },
   {
    "duration": 765,
    "start_time": "2022-06-04T17:21:29.141Z"
   },
   {
    "duration": 27,
    "start_time": "2022-06-04T17:21:29.907Z"
   },
   {
    "duration": 27982,
    "start_time": "2022-06-04T17:21:29.936Z"
   },
   {
    "duration": 0,
    "start_time": "2022-06-04T17:21:57.923Z"
   },
   {
    "duration": 0,
    "start_time": "2022-06-04T17:21:57.924Z"
   },
   {
    "duration": 0,
    "start_time": "2022-06-04T17:21:57.925Z"
   },
   {
    "duration": 0,
    "start_time": "2022-06-04T17:21:57.926Z"
   },
   {
    "duration": 0,
    "start_time": "2022-06-04T17:21:57.927Z"
   },
   {
    "duration": 0,
    "start_time": "2022-06-04T17:21:57.927Z"
   },
   {
    "duration": 0,
    "start_time": "2022-06-04T17:21:57.928Z"
   },
   {
    "duration": 0,
    "start_time": "2022-06-04T17:21:57.929Z"
   },
   {
    "duration": 0,
    "start_time": "2022-06-04T17:21:57.930Z"
   },
   {
    "duration": 0,
    "start_time": "2022-06-04T17:21:57.931Z"
   },
   {
    "duration": 0,
    "start_time": "2022-06-04T17:21:57.932Z"
   },
   {
    "duration": 32708,
    "start_time": "2022-06-04T17:22:04.048Z"
   },
   {
    "duration": 34727,
    "start_time": "2022-06-04T17:22:36.757Z"
   },
   {
    "duration": 33519,
    "start_time": "2022-06-04T17:23:11.486Z"
   },
   {
    "duration": 10846,
    "start_time": "2022-06-04T17:23:45.008Z"
   },
   {
    "duration": 0,
    "start_time": "2022-06-04T17:23:55.856Z"
   },
   {
    "duration": 0,
    "start_time": "2022-06-04T17:23:55.857Z"
   },
   {
    "duration": 0,
    "start_time": "2022-06-04T17:23:55.858Z"
   },
   {
    "duration": 0,
    "start_time": "2022-06-04T17:23:55.859Z"
   },
   {
    "duration": 0,
    "start_time": "2022-06-04T17:23:55.860Z"
   },
   {
    "duration": 1,
    "start_time": "2022-06-04T17:23:55.861Z"
   },
   {
    "duration": 0,
    "start_time": "2022-06-04T17:23:55.862Z"
   },
   {
    "duration": 0,
    "start_time": "2022-06-04T17:23:55.863Z"
   },
   {
    "duration": 19870,
    "start_time": "2022-06-04T17:24:00.258Z"
   },
   {
    "duration": 3097,
    "start_time": "2022-06-04T17:24:20.131Z"
   },
   {
    "duration": 141,
    "start_time": "2022-06-04T17:24:23.230Z"
   },
   {
    "duration": 239,
    "start_time": "2022-06-04T17:24:23.373Z"
   },
   {
    "duration": 10731,
    "start_time": "2022-06-04T17:24:23.622Z"
   },
   {
    "duration": 22,
    "start_time": "2022-06-04T17:24:34.354Z"
   },
   {
    "duration": 0,
    "start_time": "2022-06-04T17:24:34.378Z"
   },
   {
    "duration": 0,
    "start_time": "2022-06-04T17:24:34.379Z"
   },
   {
    "duration": 177,
    "start_time": "2022-06-04T17:25:10.534Z"
   },
   {
    "duration": 111,
    "start_time": "2022-06-04T17:25:11.813Z"
   },
   {
    "duration": 142,
    "start_time": "2022-06-04T17:25:12.507Z"
   },
   {
    "duration": 56,
    "start_time": "2022-06-05T01:25:39.288Z"
   },
   {
    "duration": 6,
    "start_time": "2022-06-05T01:25:42.739Z"
   },
   {
    "duration": 7,
    "start_time": "2022-06-05T01:25:43.270Z"
   },
   {
    "duration": 6,
    "start_time": "2022-06-05T01:25:47.457Z"
   },
   {
    "duration": 6,
    "start_time": "2022-06-05T01:25:48.114Z"
   },
   {
    "duration": 1594,
    "start_time": "2022-06-05T01:25:49.742Z"
   },
   {
    "duration": 100,
    "start_time": "2022-06-05T01:25:51.338Z"
   },
   {
    "duration": 13,
    "start_time": "2022-06-05T01:25:51.440Z"
   },
   {
    "duration": 20,
    "start_time": "2022-06-05T01:25:51.489Z"
   },
   {
    "duration": 6,
    "start_time": "2022-06-05T01:25:51.907Z"
   },
   {
    "duration": 4,
    "start_time": "2022-06-05T01:25:52.552Z"
   },
   {
    "duration": 12,
    "start_time": "2022-06-05T01:45:58.468Z"
   },
   {
    "duration": 73,
    "start_time": "2022-06-05T01:45:58.740Z"
   },
   {
    "duration": 13,
    "start_time": "2022-06-05T01:45:58.938Z"
   },
   {
    "duration": 3,
    "start_time": "2022-06-05T01:46:10.168Z"
   },
   {
    "duration": 6,
    "start_time": "2022-06-05T01:46:10.403Z"
   },
   {
    "duration": 12,
    "start_time": "2022-06-05T01:46:13.469Z"
   },
   {
    "duration": 6,
    "start_time": "2022-06-05T01:46:13.651Z"
   },
   {
    "duration": 6,
    "start_time": "2022-06-05T01:46:13.811Z"
   },
   {
    "duration": 926,
    "start_time": "2022-06-05T01:59:52.619Z"
   },
   {
    "duration": 14,
    "start_time": "2022-06-05T02:06:42.393Z"
   },
   {
    "duration": 4,
    "start_time": "2022-06-05T02:06:49.616Z"
   },
   {
    "duration": 4,
    "start_time": "2022-06-05T02:06:49.907Z"
   },
   {
    "duration": 13,
    "start_time": "2022-06-05T02:06:50.393Z"
   },
   {
    "duration": 11,
    "start_time": "2022-06-05T02:06:50.603Z"
   },
   {
    "duration": 6,
    "start_time": "2022-06-05T02:06:51.143Z"
   },
   {
    "duration": 41,
    "start_time": "2022-06-05T02:06:53.106Z"
   },
   {
    "duration": 32892,
    "start_time": "2022-06-05T02:11:14.491Z"
   },
   {
    "duration": 38961,
    "start_time": "2022-06-05T02:11:47.386Z"
   },
   {
    "duration": 33159,
    "start_time": "2022-06-05T02:12:26.349Z"
   },
   {
    "duration": 629188,
    "start_time": "2022-06-05T02:12:59.510Z"
   },
   {
    "duration": 0,
    "start_time": "2022-06-05T02:23:28.700Z"
   },
   {
    "duration": 0,
    "start_time": "2022-06-05T02:23:28.701Z"
   },
   {
    "duration": 0,
    "start_time": "2022-06-05T02:23:28.703Z"
   },
   {
    "duration": 0,
    "start_time": "2022-06-05T02:23:28.704Z"
   },
   {
    "duration": 0,
    "start_time": "2022-06-05T02:23:28.705Z"
   },
   {
    "duration": 0,
    "start_time": "2022-06-05T02:23:28.706Z"
   },
   {
    "duration": 0,
    "start_time": "2022-06-05T02:23:28.707Z"
   },
   {
    "duration": 0,
    "start_time": "2022-06-05T02:23:28.707Z"
   },
   {
    "duration": 240611,
    "start_time": "2022-06-05T02:23:50.424Z"
   },
   {
    "duration": 19762,
    "start_time": "2022-06-05T02:27:51.037Z"
   },
   {
    "duration": 3503,
    "start_time": "2022-06-05T02:28:10.801Z"
   },
   {
    "duration": 141,
    "start_time": "2022-06-05T02:28:14.396Z"
   },
   {
    "duration": 216,
    "start_time": "2022-06-05T02:30:22.650Z"
   },
   {
    "duration": 85,
    "start_time": "2022-06-05T02:32:17.501Z"
   },
   {
    "duration": 173,
    "start_time": "2022-06-05T02:34:56.700Z"
   },
   {
    "duration": 85,
    "start_time": "2022-06-05T02:35:08.476Z"
   },
   {
    "duration": 21,
    "start_time": "2022-06-05T02:36:47.552Z"
   },
   {
    "duration": 47,
    "start_time": "2022-06-05T02:37:32.773Z"
   },
   {
    "duration": 13,
    "start_time": "2022-06-05T02:37:35.803Z"
   },
   {
    "duration": 28,
    "start_time": "2022-06-05T02:45:55.274Z"
   },
   {
    "duration": 1701,
    "start_time": "2022-06-05T10:17:42.295Z"
   },
   {
    "duration": 94,
    "start_time": "2022-06-05T10:17:43.999Z"
   },
   {
    "duration": 14,
    "start_time": "2022-06-05T10:17:44.095Z"
   },
   {
    "duration": 30,
    "start_time": "2022-06-05T10:17:44.111Z"
   },
   {
    "duration": 8,
    "start_time": "2022-06-05T10:17:44.144Z"
   },
   {
    "duration": 12,
    "start_time": "2022-06-05T10:17:44.154Z"
   },
   {
    "duration": 14,
    "start_time": "2022-06-05T10:17:44.167Z"
   },
   {
    "duration": 1235,
    "start_time": "2022-06-05T10:17:44.182Z"
   },
   {
    "duration": 18,
    "start_time": "2022-06-05T10:17:45.420Z"
   },
   {
    "duration": 15,
    "start_time": "2022-06-05T10:17:45.440Z"
   },
   {
    "duration": 21,
    "start_time": "2022-06-05T10:17:45.457Z"
   },
   {
    "duration": 1436,
    "start_time": "2022-06-05T10:17:45.480Z"
   },
   {
    "duration": 11,
    "start_time": "2022-06-05T10:17:46.917Z"
   },
   {
    "duration": 12,
    "start_time": "2022-06-05T10:17:46.931Z"
   },
   {
    "duration": 31,
    "start_time": "2022-06-05T10:17:46.944Z"
   },
   {
    "duration": 18,
    "start_time": "2022-06-05T10:17:46.977Z"
   },
   {
    "duration": 21,
    "start_time": "2022-06-05T10:17:46.997Z"
   },
   {
    "duration": 128,
    "start_time": "2022-06-05T10:17:47.020Z"
   },
   {
    "duration": 37383,
    "start_time": "2022-06-05T10:17:47.149Z"
   },
   {
    "duration": 44264,
    "start_time": "2022-06-05T10:18:24.534Z"
   },
   {
    "duration": 37490,
    "start_time": "2022-06-05T10:19:08.800Z"
   },
   {
    "duration": 492173,
    "start_time": "2022-06-05T10:19:46.292Z"
   },
   {
    "duration": 33560,
    "start_time": "2022-06-05T10:27:58.467Z"
   },
   {
    "duration": 5720,
    "start_time": "2022-06-05T10:28:32.030Z"
   },
   {
    "duration": 223,
    "start_time": "2022-06-05T10:28:37.752Z"
   },
   {
    "duration": 273,
    "start_time": "2022-06-05T10:28:37.977Z"
   },
   {
    "duration": 106,
    "start_time": "2022-06-05T10:28:38.253Z"
   },
   {
    "duration": 45,
    "start_time": "2022-06-05T10:28:38.361Z"
   },
   {
    "duration": 0,
    "start_time": "2022-06-05T10:28:38.407Z"
   },
   {
    "duration": 117,
    "start_time": "2022-06-05T10:37:04.512Z"
   }
  ],
  "kernelspec": {
   "display_name": "Python 3",
   "language": "python",
   "name": "python3"
  },
  "language_info": {
   "codemirror_mode": {
    "name": "ipython",
    "version": 3
   },
   "file_extension": ".py",
   "mimetype": "text/x-python",
   "name": "python",
   "nbconvert_exporter": "python",
   "pygments_lexer": "ipython3",
   "version": "3.8.8"
  },
  "toc": {
   "base_numbering": 1,
   "nav_menu": {},
   "number_sections": true,
   "sideBar": true,
   "skip_h1_title": true,
   "title_cell": "Table of Contents",
   "title_sidebar": "Contents",
   "toc_cell": false,
   "toc_position": {},
   "toc_section_display": true,
   "toc_window_display": false
  }
 },
 "nbformat": 4,
 "nbformat_minor": 2
}
